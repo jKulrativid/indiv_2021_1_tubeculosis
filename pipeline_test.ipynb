{
  "nbformat": 4,
  "nbformat_minor": 0,
  "metadata": {
    "colab": {
      "name": "pipeline_test.ipynb",
      "provenance": [],
      "mount_file_id": "https://github.com/jKulrativid/indiv_2021_1_tubeculosis/blob/main/pipeline_test.ipynb",
      "authorship_tag": "ABX9TyP6V8vRsgKV7YhqQoVreszN"
    },
    "kernelspec": {
      "name": "python3",
      "display_name": "Python 3"
    },
    "language_info": {
      "name": "python"
    },
    "accelerator": "GPU",
    "widgets": {
      "application/vnd.jupyter.widget-state+json": {
        "22519284121d418db7fa6114be947762": {
          "model_module": "@jupyter-widgets/controls",
          "model_name": "HBoxModel",
          "model_module_version": "1.5.0",
          "state": {
            "_view_name": "HBoxView",
            "_dom_classes": [],
            "_model_name": "HBoxModel",
            "_view_module": "@jupyter-widgets/controls",
            "_model_module_version": "1.5.0",
            "_view_count": null,
            "_view_module_version": "1.5.0",
            "box_style": "",
            "layout": "IPY_MODEL_bb2a3001b8a04ccdb11b593b7cb48112",
            "_model_module": "@jupyter-widgets/controls",
            "children": [
              "IPY_MODEL_6c8a4d5ba2c745cbab0b034ff8993922",
              "IPY_MODEL_746e7fc63fe64af1985abeb7ccc53914",
              "IPY_MODEL_9e225bef44fc444ab4a9b17f7e8ea171"
            ]
          }
        },
        "bb2a3001b8a04ccdb11b593b7cb48112": {
          "model_module": "@jupyter-widgets/base",
          "model_name": "LayoutModel",
          "model_module_version": "1.2.0",
          "state": {
            "_view_name": "LayoutView",
            "grid_template_rows": null,
            "right": null,
            "justify_content": null,
            "_view_module": "@jupyter-widgets/base",
            "overflow": null,
            "_model_module_version": "1.2.0",
            "_view_count": null,
            "flex_flow": null,
            "width": null,
            "min_width": null,
            "border": null,
            "align_items": null,
            "bottom": null,
            "_model_module": "@jupyter-widgets/base",
            "top": null,
            "grid_column": null,
            "overflow_y": null,
            "overflow_x": null,
            "grid_auto_flow": null,
            "grid_area": null,
            "grid_template_columns": null,
            "flex": null,
            "_model_name": "LayoutModel",
            "justify_items": null,
            "grid_row": null,
            "max_height": null,
            "align_content": null,
            "visibility": null,
            "align_self": null,
            "height": null,
            "min_height": null,
            "padding": null,
            "grid_auto_rows": null,
            "grid_gap": null,
            "max_width": null,
            "order": null,
            "_view_module_version": "1.2.0",
            "grid_template_areas": null,
            "object_position": null,
            "object_fit": null,
            "grid_auto_columns": null,
            "margin": null,
            "display": null,
            "left": null
          }
        },
        "6c8a4d5ba2c745cbab0b034ff8993922": {
          "model_module": "@jupyter-widgets/controls",
          "model_name": "HTMLModel",
          "model_module_version": "1.5.0",
          "state": {
            "_view_name": "HTMLView",
            "style": "IPY_MODEL_fa8bbcd551c244a698a883a809a6dc30",
            "_dom_classes": [],
            "description": "",
            "_model_name": "HTMLModel",
            "placeholder": "​",
            "_view_module": "@jupyter-widgets/controls",
            "_model_module_version": "1.5.0",
            "value": "",
            "_view_count": null,
            "_view_module_version": "1.5.0",
            "description_tooltip": null,
            "_model_module": "@jupyter-widgets/controls",
            "layout": "IPY_MODEL_efa54aa9ff604ceba9c225c931e64175"
          }
        },
        "746e7fc63fe64af1985abeb7ccc53914": {
          "model_module": "@jupyter-widgets/controls",
          "model_name": "FloatProgressModel",
          "model_module_version": "1.5.0",
          "state": {
            "_view_name": "ProgressView",
            "style": "IPY_MODEL_94aee62ceed34909bfaffb4f26c090b4",
            "_dom_classes": [],
            "description": "",
            "_model_name": "FloatProgressModel",
            "bar_style": "success",
            "max": 170498071,
            "_view_module": "@jupyter-widgets/controls",
            "_model_module_version": "1.5.0",
            "value": 170498071,
            "_view_count": null,
            "_view_module_version": "1.5.0",
            "orientation": "horizontal",
            "min": 0,
            "description_tooltip": null,
            "_model_module": "@jupyter-widgets/controls",
            "layout": "IPY_MODEL_499c0cd7841b40619a36b4c762264f68"
          }
        },
        "9e225bef44fc444ab4a9b17f7e8ea171": {
          "model_module": "@jupyter-widgets/controls",
          "model_name": "HTMLModel",
          "model_module_version": "1.5.0",
          "state": {
            "_view_name": "HTMLView",
            "style": "IPY_MODEL_a6290fcde51241faa479615de940629f",
            "_dom_classes": [],
            "description": "",
            "_model_name": "HTMLModel",
            "placeholder": "​",
            "_view_module": "@jupyter-widgets/controls",
            "_model_module_version": "1.5.0",
            "value": " 170499072/? [00:05&lt;00:00, 30706188.67it/s]",
            "_view_count": null,
            "_view_module_version": "1.5.0",
            "description_tooltip": null,
            "_model_module": "@jupyter-widgets/controls",
            "layout": "IPY_MODEL_776fdfbab9434f48b3dcce2bf4adc2a3"
          }
        },
        "fa8bbcd551c244a698a883a809a6dc30": {
          "model_module": "@jupyter-widgets/controls",
          "model_name": "DescriptionStyleModel",
          "model_module_version": "1.5.0",
          "state": {
            "_view_name": "StyleView",
            "_model_name": "DescriptionStyleModel",
            "description_width": "",
            "_view_module": "@jupyter-widgets/base",
            "_model_module_version": "1.5.0",
            "_view_count": null,
            "_view_module_version": "1.2.0",
            "_model_module": "@jupyter-widgets/controls"
          }
        },
        "efa54aa9ff604ceba9c225c931e64175": {
          "model_module": "@jupyter-widgets/base",
          "model_name": "LayoutModel",
          "model_module_version": "1.2.0",
          "state": {
            "_view_name": "LayoutView",
            "grid_template_rows": null,
            "right": null,
            "justify_content": null,
            "_view_module": "@jupyter-widgets/base",
            "overflow": null,
            "_model_module_version": "1.2.0",
            "_view_count": null,
            "flex_flow": null,
            "width": null,
            "min_width": null,
            "border": null,
            "align_items": null,
            "bottom": null,
            "_model_module": "@jupyter-widgets/base",
            "top": null,
            "grid_column": null,
            "overflow_y": null,
            "overflow_x": null,
            "grid_auto_flow": null,
            "grid_area": null,
            "grid_template_columns": null,
            "flex": null,
            "_model_name": "LayoutModel",
            "justify_items": null,
            "grid_row": null,
            "max_height": null,
            "align_content": null,
            "visibility": null,
            "align_self": null,
            "height": null,
            "min_height": null,
            "padding": null,
            "grid_auto_rows": null,
            "grid_gap": null,
            "max_width": null,
            "order": null,
            "_view_module_version": "1.2.0",
            "grid_template_areas": null,
            "object_position": null,
            "object_fit": null,
            "grid_auto_columns": null,
            "margin": null,
            "display": null,
            "left": null
          }
        },
        "94aee62ceed34909bfaffb4f26c090b4": {
          "model_module": "@jupyter-widgets/controls",
          "model_name": "ProgressStyleModel",
          "model_module_version": "1.5.0",
          "state": {
            "_view_name": "StyleView",
            "_model_name": "ProgressStyleModel",
            "description_width": "",
            "_view_module": "@jupyter-widgets/base",
            "_model_module_version": "1.5.0",
            "_view_count": null,
            "_view_module_version": "1.2.0",
            "bar_color": null,
            "_model_module": "@jupyter-widgets/controls"
          }
        },
        "499c0cd7841b40619a36b4c762264f68": {
          "model_module": "@jupyter-widgets/base",
          "model_name": "LayoutModel",
          "model_module_version": "1.2.0",
          "state": {
            "_view_name": "LayoutView",
            "grid_template_rows": null,
            "right": null,
            "justify_content": null,
            "_view_module": "@jupyter-widgets/base",
            "overflow": null,
            "_model_module_version": "1.2.0",
            "_view_count": null,
            "flex_flow": null,
            "width": null,
            "min_width": null,
            "border": null,
            "align_items": null,
            "bottom": null,
            "_model_module": "@jupyter-widgets/base",
            "top": null,
            "grid_column": null,
            "overflow_y": null,
            "overflow_x": null,
            "grid_auto_flow": null,
            "grid_area": null,
            "grid_template_columns": null,
            "flex": null,
            "_model_name": "LayoutModel",
            "justify_items": null,
            "grid_row": null,
            "max_height": null,
            "align_content": null,
            "visibility": null,
            "align_self": null,
            "height": null,
            "min_height": null,
            "padding": null,
            "grid_auto_rows": null,
            "grid_gap": null,
            "max_width": null,
            "order": null,
            "_view_module_version": "1.2.0",
            "grid_template_areas": null,
            "object_position": null,
            "object_fit": null,
            "grid_auto_columns": null,
            "margin": null,
            "display": null,
            "left": null
          }
        },
        "a6290fcde51241faa479615de940629f": {
          "model_module": "@jupyter-widgets/controls",
          "model_name": "DescriptionStyleModel",
          "model_module_version": "1.5.0",
          "state": {
            "_view_name": "StyleView",
            "_model_name": "DescriptionStyleModel",
            "description_width": "",
            "_view_module": "@jupyter-widgets/base",
            "_model_module_version": "1.5.0",
            "_view_count": null,
            "_view_module_version": "1.2.0",
            "_model_module": "@jupyter-widgets/controls"
          }
        },
        "776fdfbab9434f48b3dcce2bf4adc2a3": {
          "model_module": "@jupyter-widgets/base",
          "model_name": "LayoutModel",
          "model_module_version": "1.2.0",
          "state": {
            "_view_name": "LayoutView",
            "grid_template_rows": null,
            "right": null,
            "justify_content": null,
            "_view_module": "@jupyter-widgets/base",
            "overflow": null,
            "_model_module_version": "1.2.0",
            "_view_count": null,
            "flex_flow": null,
            "width": null,
            "min_width": null,
            "border": null,
            "align_items": null,
            "bottom": null,
            "_model_module": "@jupyter-widgets/base",
            "top": null,
            "grid_column": null,
            "overflow_y": null,
            "overflow_x": null,
            "grid_auto_flow": null,
            "grid_area": null,
            "grid_template_columns": null,
            "flex": null,
            "_model_name": "LayoutModel",
            "justify_items": null,
            "grid_row": null,
            "max_height": null,
            "align_content": null,
            "visibility": null,
            "align_self": null,
            "height": null,
            "min_height": null,
            "padding": null,
            "grid_auto_rows": null,
            "grid_gap": null,
            "max_width": null,
            "order": null,
            "_view_module_version": "1.2.0",
            "grid_template_areas": null,
            "object_position": null,
            "object_fit": null,
            "grid_auto_columns": null,
            "margin": null,
            "display": null,
            "left": null
          }
        }
      }
    }
  },
  "cells": [
    {
      "cell_type": "code",
      "metadata": {
        "id": "LHWIq6LG0dVQ"
      },
      "source": [
        "import torch\n",
        "import torch.nn as nn\n",
        "from torch import optim\n",
        "from torchvision import transforms, datasets, models\n",
        "from torch.utils.data import DataLoader\n",
        "import numpy as np\n",
        "import matplotlib.pyplot as plt\n",
        "\n",
        "import copy\n",
        "import time\n",
        "\n",
        "import warnings\n",
        "warnings.filterwarnings(\"ignore\")\n",
        "\n",
        "plt.ion()"
      ],
      "execution_count": 1,
      "outputs": []
    },
    {
      "cell_type": "code",
      "metadata": {
        "id": "MAU6TVjIN0Wf"
      },
      "source": [
        "device = torch.device('cuda' if torch.cuda.is_available() else 'cpu')"
      ],
      "execution_count": 2,
      "outputs": []
    },
    {
      "cell_type": "code",
      "metadata": {
        "id": "IQhZ5mbiMZcN"
      },
      "source": [
        "train_transform = transforms.Compose([\n",
        "    transforms.RandomResizedCrop(25),\n",
        "    transforms.RandomHorizontalFlip(),\n",
        "    transforms.ToTensor(),\n",
        "    transforms.Normalize((0.5, 0.5, 0.5), (0.5, 0.5, 0.5))\n",
        "])\n",
        "test_transform = transforms.Compose([\n",
        "    transforms.RandomHorizontalFlip(),\n",
        "    transforms.ToTensor(),\n",
        "    transforms.Normalize((0.5, 0.5, 0.5), (0.5, 0.5, 0.5))\n",
        "])"
      ],
      "execution_count": 3,
      "outputs": []
    },
    {
      "cell_type": "code",
      "metadata": {
        "id": "vep2blxl1O5T",
        "colab": {
          "base_uri": "https://localhost:8080/",
          "height": 99,
          "referenced_widgets": [
            "22519284121d418db7fa6114be947762",
            "bb2a3001b8a04ccdb11b593b7cb48112",
            "6c8a4d5ba2c745cbab0b034ff8993922",
            "746e7fc63fe64af1985abeb7ccc53914",
            "9e225bef44fc444ab4a9b17f7e8ea171",
            "fa8bbcd551c244a698a883a809a6dc30",
            "efa54aa9ff604ceba9c225c931e64175",
            "94aee62ceed34909bfaffb4f26c090b4",
            "499c0cd7841b40619a36b4c762264f68",
            "a6290fcde51241faa479615de940629f",
            "776fdfbab9434f48b3dcce2bf4adc2a3"
          ]
        },
        "outputId": "f2f571a0-cd0e-4c1a-830d-740e0c470bb9"
      },
      "source": [
        "train_dataset = datasets.CIFAR10(root='./data', train=True, transform=train_transform, download=True)\n",
        "test_dataset = datasets.CIFAR10(root='./data', train=False, transform=test_transform, download=True)"
      ],
      "execution_count": 4,
      "outputs": [
        {
          "output_type": "stream",
          "name": "stdout",
          "text": [
            "Downloading https://www.cs.toronto.edu/~kriz/cifar-10-python.tar.gz to ./data/cifar-10-python.tar.gz\n"
          ]
        },
        {
          "output_type": "display_data",
          "data": {
            "application/vnd.jupyter.widget-view+json": {
              "model_id": "22519284121d418db7fa6114be947762",
              "version_minor": 0,
              "version_major": 2
            },
            "text/plain": [
              "  0%|          | 0/170498071 [00:00<?, ?it/s]"
            ]
          },
          "metadata": {}
        },
        {
          "output_type": "stream",
          "name": "stdout",
          "text": [
            "Extracting ./data/cifar-10-python.tar.gz to ./data\n",
            "Files already downloaded and verified\n"
          ]
        }
      ]
    },
    {
      "cell_type": "code",
      "metadata": {
        "colab": {
          "base_uri": "https://localhost:8080/",
          "height": 202
        },
        "id": "nZ6WNLoXLuzd",
        "outputId": "635c82a2-43d8-4f45-a5cd-9862a15c0271"
      },
      "source": [
        "fig = plt.figure()\n",
        "\n",
        "num_show = 4\n",
        "for i in range(num_show):\n",
        "    sample = train_dataset[i]\n",
        "    ax = plt.subplot(1, num_show, i+1)\n",
        "    plt.tight_layout()\n",
        "    ax.set_title(\"Sample \"+str(i))\n",
        "    plt.imshow(sample[0].permute(1, 2, 0))"
      ],
      "execution_count": 5,
      "outputs": [
        {
          "output_type": "stream",
          "name": "stderr",
          "text": [
            "Clipping input data to the valid range for imshow with RGB data ([0..1] for floats or [0..255] for integers).\n",
            "Clipping input data to the valid range for imshow with RGB data ([0..1] for floats or [0..255] for integers).\n",
            "Clipping input data to the valid range for imshow with RGB data ([0..1] for floats or [0..255] for integers).\n",
            "Clipping input data to the valid range for imshow with RGB data ([0..1] for floats or [0..255] for integers).\n"
          ]
        },
        {
          "output_type": "display_data",
          "data": {
            "image/png": "[encoded data removed]",
            "text/plain": [
              "<Figure size 432x288 with 4 Axes>"
            ]
          },
          "metadata": {
            "needs_background": "light"
          }
        }
      ]
    },
    {
      "cell_type": "code",
      "metadata": {
        "id": "V_ZeIadDOKZr"
      },
      "source": [
        "classes = ('plane', 'car', 'bird', 'cat', 'deer',\n",
        "           'dog', 'frog', 'horse', 'ship', 'truck')"
      ],
      "execution_count": 6,
      "outputs": []
    },
    {
      "cell_type": "code",
      "metadata": {
        "id": "z80X0OdxRINc"
      },
      "source": [
        "batch_size = 64\n",
        "num_workers = 8\n",
        "learning_rate = 0.003\n",
        "num_epochs = 5\n",
        "shuffle_train_loader = True"
      ],
      "execution_count": 45,
      "outputs": []
    },
    {
      "cell_type": "code",
      "metadata": {
        "id": "UvRPkvwVQjk1"
      },
      "source": [
        "train_dataloader = DataLoader(train_dataset, batch_size=batch_size, shuffle=shuffle_train_loader, num_workers=num_workers)\n",
        "test_dataloader = DataLoader(test_dataset, batch_size=batch_size, num_workers=num_workers)"
      ],
      "execution_count": 46,
      "outputs": []
    },
    {
      "cell_type": "code",
      "metadata": {
        "id": "JwbROj-BXKKU"
      },
      "source": [
        "train_size = len(train_dataset)\n",
        "test_size = len(test_dataset)"
      ],
      "execution_count": 24,
      "outputs": []
    },
    {
      "cell_type": "code",
      "metadata": {
        "colab": {
          "base_uri": "https://localhost:8080/"
        },
        "id": "aWWo-hH5L4wv",
        "outputId": "680d729a-5f89-444f-bde7-07ae4b83767c"
      },
      "source": [
        "print('Train Size:', train_size)\n",
        "print('Test Size:', test_size)"
      ],
      "execution_count": 25,
      "outputs": [
        {
          "output_type": "stream",
          "name": "stdout",
          "text": [
            "Train Size: 50000\n",
            "Test Size: 10000\n"
          ]
        }
      ]
    },
    {
      "cell_type": "code",
      "metadata": {
        "id": "G_4YtYnSd9j9"
      },
      "source": [
        "train_loader_size = len(train_dataloader)\n",
        "test_loader_size = len(test_dataloader)"
      ],
      "execution_count": 47,
      "outputs": []
    },
    {
      "cell_type": "code",
      "metadata": {
        "id": "PrhcJ_jmeDot",
        "outputId": "fe17b3a5-b1ba-4863-ab59-8ba7052938a2",
        "colab": {
          "base_uri": "https://localhost:8080/"
        }
      },
      "source": [
        "print('Train Steps:', train_loader_size)\n",
        "print('Test Steps:', test_loader_size)"
      ],
      "execution_count": 48,
      "outputs": [
        {
          "output_type": "stream",
          "name": "stdout",
          "text": [
            "Train Steps: 782\n",
            "Test Steps: 157\n"
          ]
        }
      ]
    },
    {
      "cell_type": "code",
      "metadata": {
        "id": "J0Yx_Ei5Tyrj"
      },
      "source": [
        "def train_model(model, criterion, optimizer, scheduler, num_epochs):\n",
        "    start_train_time = time.time()\n",
        "    best_model_wts = copy.deepcopy(model.state_dict())\n",
        "    n_show = 5\n",
        "    train_show = train_loader_size // n_show\n",
        "    test_show = test_loader_size // n_show\n",
        "    best_acc = 0.0\n",
        "    print(f'Start Training\\nTrain Show = {train_show}\\nTest Show = {test_show}')\n",
        "\n",
        "    for epoch in range(num_epochs):\n",
        "        print(\"Epoch {}/{}\".format(epoch+1, num_epochs))\n",
        "        print('-'*10)\n",
        "        \n",
        "        model.train()\n",
        "        running_loss = 0.0\n",
        "        running_corrects = 0\n",
        "\n",
        "        for i, (images, targets) in enumerate(train_dataloader):\n",
        "            \n",
        "            images = images.to(device)\n",
        "            targets = targets.to(device)\n",
        "            \n",
        "            optimizer.zero_grad()\n",
        "\n",
        "            with torch.set_grad_enabled(True):\n",
        "                outputs = model(images)\n",
        "                _, preds = torch.max(outputs, 1)\n",
        "                loss = criterion(outputs, targets)\n",
        "                loss.backward()\n",
        "                optimizer.step()\n",
        "            \n",
        "            running_loss += loss.item() * len(targets)\n",
        "            running_corrects += torch.sum(preds == targets)\n",
        "\n",
        "            if (i+1) % train_show == 0:\n",
        "                print(f'Epoch: [{epoch+1}/{num_epochs}], Step [{i+1}/{train_loader_size}], Loss = {loss.item()}')\n",
        "\n",
        "        scheduler.step()\n",
        "    \n",
        "        epoch_loss = running_loss / train_size\n",
        "        epoch_acc = running_corrects / train_size\n",
        "        print('{} Loss: {:.4f} Acc: {:.4f}'.format('Train', epoch_loss, epoch_acc))\n",
        "\n",
        "        model.eval()\n",
        "        running_loss = 0.0\n",
        "        running_corrects = 0\n",
        "\n",
        "        for i, (images, targets) in enumerate(test_dataloader):\n",
        "\n",
        "            images = images.to(device)\n",
        "            targets = targets.to(device)\n",
        "\n",
        "            optimizer.zero_grad()\n",
        "\n",
        "            with torch.set_grad_enabled(False):\n",
        "                outputs = model(images)\n",
        "                _, preds = torch.max(outputs, 1)\n",
        "                loss = criterion(outputs, targets)\n",
        "\n",
        "            running_loss += loss.item() * len(targets)\n",
        "            running_corrects += torch.sum(preds == targets)\n",
        "\n",
        "            if (i+1) % test_show == 0:\n",
        "                print(f'Epoch: [{epoch+1}/{num_epochs}], Step [{i+1}/{test_loader_size}], Loss = {loss.item()}')\n",
        "\n",
        "        epoch_loss = running_loss / test_size\n",
        "        epoch_acc = running_corrects / test_size\n",
        "        print('{} Loss: {:.4f} Acc: {:.4f}'.format('Test', epoch_loss, epoch_acc))\n",
        "        \n",
        "        if epoch_acc > best_acc:\n",
        "            best_acc = epoch_acc\n",
        "            best_model_wts = copy.deepcopy(model.state_dict())\n",
        "\n",
        "        print()\n",
        "\n",
        "    time_elapsed = time.time() - start_train_time\n",
        "    print('Training complete in {:.0f}m {:.0f}s'.format(time_elapsed // 60, time_elapsed % 60))\n",
        "    print('Best val Acc: {:4f}'.format(best_acc))\n",
        "\n",
        "    model.load_state_dict(best_model_wts)\n",
        "    return model\n"
      ],
      "execution_count": 51,
      "outputs": []
    },
    {
      "cell_type": "code",
      "metadata": {
        "id": "IVeekP_8Rnlw"
      },
      "source": [
        "model = models.resnet101(pretrained=False)"
      ],
      "execution_count": 12,
      "outputs": []
    },
    {
      "cell_type": "code",
      "metadata": {
        "id": "O5B0nEXQSxpd"
      },
      "source": [
        "model.to(device)\n",
        "criterion = nn.CrossEntropyLoss()\n",
        "optimizer = optim.SGD(model.parameters(), lr=learning_rate)"
      ],
      "execution_count": 13,
      "outputs": []
    },
    {
      "cell_type": "code",
      "metadata": {
        "id": "u4q-vTOtT8mR"
      },
      "source": [
        "scheduler = optim.lr_scheduler.StepLR(optimizer, step_size=7, gamma=0.1)"
      ],
      "execution_count": 14,
      "outputs": []
    },
    {
      "cell_type": "code",
      "metadata": {
        "colab": {
          "base_uri": "https://localhost:8080/"
        },
        "id": "ah-ul_96ZmP4",
        "outputId": "82c7415f-cd6b-4fd0-b500-96c19c03f0c1"
      },
      "source": [
        "model = train_model(model, criterion, optimizer, scheduler, 1)"
      ],
      "execution_count": 52,
      "outputs": [
        {
          "output_type": "stream",
          "name": "stdout",
          "text": [
            "Start Training\n",
            "Train Show = 156\n",
            "Test Show = 31\n",
            "Epoch 1/1\n",
            "----------\n",
            "Epoch: [1/1], Step [156/782], Loss = 1.595300555229187\n",
            "Epoch: [1/1], Step [312/782], Loss = 1.740244746208191\n",
            "Epoch: [1/1], Step [468/782], Loss = 1.5289157629013062\n",
            "Epoch: [1/1], Step [624/782], Loss = 1.7686121463775635\n",
            "Epoch: [1/1], Step [780/782], Loss = 1.9263532161712646\n",
            "Train Loss: 1.7051 Acc: 0.3787\n",
            "Epoch: [1/1], Step [31/157], Loss = 1.695792555809021\n",
            "Epoch: [1/1], Step [62/157], Loss = 1.6691614389419556\n",
            "Epoch: [1/1], Step [93/157], Loss = 1.7106437683105469\n",
            "Epoch: [1/1], Step [124/157], Loss = 1.5731467008590698\n",
            "Epoch: [1/1], Step [155/157], Loss = 1.7266994714736938\n",
            "Test Loss: 1.6750 Acc: 0.3867\n",
            "\n",
            "Training complete in 2m 50s\n",
            "Best val Acc: 0.386700\n"
          ]
        }
      ]
    },
    {
      "cell_type": "code",
      "metadata": {
        "id": "OGtZtWJYZ48p"
      },
      "source": [
        "def evaluate(model, criterion):\n",
        "\n",
        "    start_time = time.time()\n",
        "\n",
        "    running_loss = 0.0\n",
        "    running_corrects = 0\n",
        "\n",
        "    for i, (images, targets) in enumerate(test_dataloader):\n",
        "\n",
        "        images = images.to(device)\n",
        "        targets = targets.to(device)\n",
        "\n",
        "        with torch.set_grad_enabled(False):\n",
        "\n",
        "            outputs = model(images)\n",
        "            _, preds = torch.max(outputs, 1)\n",
        "            loss = criterion(outputs, targets)\n",
        "\n",
        "        running_loss += loss.item() * len(targets)\n",
        "        running_corrects += torch.sum(preds == targets)\n",
        "\n",
        "    total_loss = running_loss / test_size\n",
        "    total_acc = running_corrects / test_size\n",
        "    elapsed_time = time.time() - start_time\n",
        "\n",
        "    print('###### SUMMARY ######')\n",
        "    print('Elapsed Time: {}'.format(elapsed_time))\n",
        "    print('Total Loss: {}'.format(total_loss))\n",
        "    print('Total Acc : {}'.format(total_acc))"
      ],
      "execution_count": null,
      "outputs": []
    },
    {
      "cell_type": "code",
      "metadata": {
        "colab": {
          "base_uri": "https://localhost:8080/"
        },
        "id": "I564pPrJMPIv",
        "outputId": "8ac778d1-bff0-4087-c461-f447cc9f1a65"
      },
      "source": [
        "evaluate(model, criterion)"
      ],
      "execution_count": null,
      "outputs": [
        {
          "output_type": "stream",
          "name": "stdout",
          "text": [
            "###### SUMMARY ######\n",
            "Elapsed Time: 74.99072456359863\n",
            "Total Loss: 1.7956983129501343\n",
            "Total Acc : 0.33079999685287476\n"
          ]
        }
      ]
    },
    {
      "cell_type": "code",
      "metadata": {
        "id": "JRdPsIWGSjDJ"
      },
      "source": [
        "test_dataset.transform = transforms.ToTensor()"
      ],
      "execution_count": null,
      "outputs": []
    },
    {
      "cell_type": "code",
      "metadata": {
        "id": "MgGb8bpNNko3"
      },
      "source": [
        "def visualization(model):\n",
        "\n",
        "    num_show = 3\n",
        "    fig = plt.figure()\n",
        "    \n",
        "    cnt = 1\n",
        "    for k, (images, targets) in enumerate(test_dataloader):\n",
        "\n",
        "        with torch.set_grad_enabled(False):\n",
        "            outputs = model(images.to(device))\n",
        "            _, preds = torch.max(outputs, 1)\n",
        "\n",
        "        for i in range(len(images)):\n",
        "\n",
        "            ax = plt.subplot(num_show, 4, 4*k+i+1)\n",
        "            ax.set_title('{}[{}]'.format(classes[preds[i]], classes[targets[i]]))\n",
        "            plt.imshow(images[i].permute(1, 2, 0))\n",
        "            \n",
        "        if cnt == num_show:\n",
        "            return\n",
        "        cnt += 1\n",
        "    \n",
        "    plt.show()"
      ],
      "execution_count": null,
      "outputs": []
    },
    {
      "cell_type": "code",
      "metadata": {
        "colab": {
          "base_uri": "https://localhost:8080/",
          "height": 281
        },
        "id": "SVBUwPQUPdnP",
        "outputId": "e628f48e-6625-44e4-c622-fed754e2bab1"
      },
      "source": [
        "visualization(model)"
      ],
      "execution_count": null,
      "outputs": [
        {
          "output_type": "display_data",
          "data": {
            "image/png": "[encoded data removed]",
            "text/plain": [
              "<Figure size 432x288 with 12 Axes>"
            ]
          },
          "metadata": {
            "needs_background": "light"
          }
        }
      ]
    },
    {
      "cell_type": "code",
      "metadata": {
        "id": "C0W0-IA-PfUl"
      },
      "source": [
        ""
      ],
      "execution_count": null,
      "outputs": []
    }
  ]
}